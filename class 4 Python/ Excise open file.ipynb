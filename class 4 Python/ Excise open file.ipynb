{
 "cells": [
  {
   "cell_type": "code",
   "execution_count": 41,
   "id": "2ecf6b23-e21a-499a-a568-bae5e5cdd827",
   "metadata": {},
   "outputs": [
    {
     "name": "stdout",
     "output_type": "stream",
     "text": [
      "testWrite.txt\n"
     ]
    }
   ],
   "source": [
    "# open() is a buildin python function library\n",
    "# excise open file\n",
    "# 'r' read, 'w' overwrite. 'a' append, \n",
    "# 'r+' read-write, 'w+' overwrite-read, 'a+' append and read\n",
    "# this method need to use file1.close() to close the file curser\n",
    "file_name ='testWrite.txt'\n",
    "file1 = open(file_name, 'r')\n",
    "print(file1.name)"
   ]
  },
  {
   "cell_type": "code",
   "execution_count": 42,
   "id": "02e31c43-59b0-480a-857e-cb64e5d2ddd0",
   "metadata": {},
   "outputs": [
    {
     "name": "stdout",
     "output_type": "stream",
     "text": [
      "Membership No  Date Joined  Active  \n",
      "    66678      2016-10-22   yes   \n",
      "    79509      2017-1-16    yes   \n",
      "    96123      2016-8-25    yes   \n",
      "    87817      2020-9-19    yes   \n",
      "    29544      2016-5-25    yes   \n",
      "    83060      2019-3-15    yes   \n",
      "    34120      2016-9-24    yes   \n",
      "    48273      2017-1-3     yes   \n",
      "    45018      2019-9-4     yes   \n",
      "\n"
     ]
    }
   ],
   "source": [
    "file_text =file1.read()\n",
    "print (file_text)"
   ]
  },
  {
   "cell_type": "code",
   "execution_count": 43,
   "id": "14015270-7ecf-4b84-ae3c-babaccccaeb7",
   "metadata": {},
   "outputs": [
    {
     "ename": "IndexError",
     "evalue": "list index out of range",
     "output_type": "error",
     "traceback": [
      "\u001b[0;31m---------------------------------------------------------------------------\u001b[0m",
      "\u001b[0;31mIndexError\u001b[0m                                Traceback (most recent call last)",
      "Cell \u001b[0;32mIn[43], line 2\u001b[0m\n\u001b[1;32m      1\u001b[0m lines \u001b[38;5;241m=\u001b[39m file1\u001b[38;5;241m.\u001b[39mreadlines()\n\u001b[0;32m----> 2\u001b[0m lines [\u001b[38;5;241m0\u001b[39m]\n",
      "\u001b[0;31mIndexError\u001b[0m: list index out of range"
     ]
    }
   ],
   "source": [
    "lines = file1.readlines()\n",
    "lines [0]"
   ]
  },
  {
   "cell_type": "code",
   "execution_count": 50,
   "id": "68e8d005-0385-4a9b-9593-f4f812c1207e",
   "metadata": {},
   "outputs": [],
   "source": [
    "file1.close()"
   ]
  },
  {
   "cell_type": "code",
   "execution_count": 53,
   "id": "a0565676-184d-493e-808b-989b42db4bdb",
   "metadata": {},
   "outputs": [
    {
     "name": "stdout",
     "output_type": "stream",
     "text": [
      "Membership No  Date Joined  Active  \n",
      "    66678      2016-10-22   yes   \n",
      "    79509      2017-1-16    yes   \n",
      "    96123      2016-8-25    yes   \n",
      "    87817      2020-9-19    yes   \n",
      "    29544      2016-5-25    yes   \n",
      "    83060      2019-3-15    yes   \n",
      "    34120      2016-9-24    yes   \n",
      "    48273      2017-1-3     yes   \n",
      "    45018      2019-9-4     yes   \n",
      "\n"
     ]
    }
   ],
   "source": [
    "# with open () as __ command close file automatically after executing\n",
    "# File only stay open for the with command\n",
    "with open(file_name, 'r') as file1:\n",
    "    file_text=file1.read()\n",
    "    print(file_text)"
   ]
  },
  {
   "cell_type": "code",
   "execution_count": 56,
   "id": "d3260a93-143d-4a27-a306-0f32b45dcb98",
   "metadata": {},
   "outputs": [
    {
     "name": "stdout",
     "output_type": "stream",
     "text": [
      "Membership No  Date Joined  Active  \n",
      "\n",
      "    66678      2016-10-22   yes   \n",
      "\n"
     ]
    }
   ],
   "source": [
    "with open(file_name, 'r') as file1:\n",
    "    file_lines = file1.readlines()\n",
    "    print(file_lines[0])\n",
    "    print(file_lines[1])"
   ]
  },
  {
   "cell_type": "code",
   "execution_count": null,
   "id": "f1a51313-fe2a-426a-b115-8d76c29de30a",
   "metadata": {},
   "outputs": [],
   "source": []
  }
 ],
 "metadata": {
  "kernelspec": {
   "display_name": "Python 3 (ipykernel)",
   "language": "python",
   "name": "python3"
  },
  "language_info": {
   "codemirror_mode": {
    "name": "ipython",
    "version": 3
   },
   "file_extension": ".py",
   "mimetype": "text/x-python",
   "name": "python",
   "nbconvert_exporter": "python",
   "pygments_lexer": "ipython3",
   "version": "3.11.7"
  }
 },
 "nbformat": 4,
 "nbformat_minor": 5
}
